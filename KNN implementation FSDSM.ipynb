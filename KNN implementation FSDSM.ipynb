{
 "cells": [
  {
   "cell_type": "markdown",
   "id": "37192ec3",
   "metadata": {},
   "source": [
    "this is the scikit learn page: https://scikit-learn.org/stable/modules/generated/sklearn.neighbors.KNeighborsClassifier.html"
   ]
  },
  {
   "cell_type": "code",
   "execution_count": 1,
   "id": "7542472a",
   "metadata": {},
   "outputs": [],
   "source": [
    "import pandas as pd\n",
    "import matplotlib.pyplot as plt\n",
    "import seaborn as sns\n",
    "from sklearn.model_selection import train_test_split, GridSearchCV\n",
    "from sklearn.neighbors import KNeighborsClassifier\n",
    "from sklearn.metrics import accuracy_score\n",
    "from sklearn.preprocessing import MinMaxScaler"
   ]
  },
  {
   "cell_type": "code",
   "execution_count": 2,
   "id": "4e9f73ae",
   "metadata": {},
   "outputs": [],
   "source": [
    "data=pd.read_csv(\"glass.csv\")"
   ]
  },
  {
   "cell_type": "code",
   "execution_count": 3,
   "id": "d977a43f",
   "metadata": {},
   "outputs": [
    {
     "data": {
      "text/html": [
       "<div>\n",
       "<style scoped>\n",
       "    .dataframe tbody tr th:only-of-type {\n",
       "        vertical-align: middle;\n",
       "    }\n",
       "\n",
       "    .dataframe tbody tr th {\n",
       "        vertical-align: top;\n",
       "    }\n",
       "\n",
       "    .dataframe thead th {\n",
       "        text-align: right;\n",
       "    }\n",
       "</style>\n",
       "<table border=\"1\" class=\"dataframe\">\n",
       "  <thead>\n",
       "    <tr style=\"text-align: right;\">\n",
       "      <th></th>\n",
       "      <th>RI</th>\n",
       "      <th>Na</th>\n",
       "      <th>Mg</th>\n",
       "      <th>Al</th>\n",
       "      <th>Si</th>\n",
       "      <th>K</th>\n",
       "      <th>Ca</th>\n",
       "      <th>Ba</th>\n",
       "      <th>Fe</th>\n",
       "      <th>Type</th>\n",
       "    </tr>\n",
       "  </thead>\n",
       "  <tbody>\n",
       "    <tr>\n",
       "      <th>0</th>\n",
       "      <td>1.52101</td>\n",
       "      <td>13.64</td>\n",
       "      <td>4.49</td>\n",
       "      <td>1.10</td>\n",
       "      <td>71.78</td>\n",
       "      <td>0.06</td>\n",
       "      <td>8.75</td>\n",
       "      <td>0.0</td>\n",
       "      <td>0.0</td>\n",
       "      <td>1</td>\n",
       "    </tr>\n",
       "    <tr>\n",
       "      <th>1</th>\n",
       "      <td>1.51761</td>\n",
       "      <td>13.89</td>\n",
       "      <td>3.60</td>\n",
       "      <td>1.36</td>\n",
       "      <td>72.73</td>\n",
       "      <td>0.48</td>\n",
       "      <td>7.83</td>\n",
       "      <td>0.0</td>\n",
       "      <td>0.0</td>\n",
       "      <td>1</td>\n",
       "    </tr>\n",
       "    <tr>\n",
       "      <th>2</th>\n",
       "      <td>1.51618</td>\n",
       "      <td>13.53</td>\n",
       "      <td>3.55</td>\n",
       "      <td>1.54</td>\n",
       "      <td>72.99</td>\n",
       "      <td>0.39</td>\n",
       "      <td>7.78</td>\n",
       "      <td>0.0</td>\n",
       "      <td>0.0</td>\n",
       "      <td>1</td>\n",
       "    </tr>\n",
       "    <tr>\n",
       "      <th>3</th>\n",
       "      <td>1.51766</td>\n",
       "      <td>13.21</td>\n",
       "      <td>3.69</td>\n",
       "      <td>1.29</td>\n",
       "      <td>72.61</td>\n",
       "      <td>0.57</td>\n",
       "      <td>8.22</td>\n",
       "      <td>0.0</td>\n",
       "      <td>0.0</td>\n",
       "      <td>1</td>\n",
       "    </tr>\n",
       "    <tr>\n",
       "      <th>4</th>\n",
       "      <td>1.51742</td>\n",
       "      <td>13.27</td>\n",
       "      <td>3.62</td>\n",
       "      <td>1.24</td>\n",
       "      <td>73.08</td>\n",
       "      <td>0.55</td>\n",
       "      <td>8.07</td>\n",
       "      <td>0.0</td>\n",
       "      <td>0.0</td>\n",
       "      <td>1</td>\n",
       "    </tr>\n",
       "  </tbody>\n",
       "</table>\n",
       "</div>"
      ],
      "text/plain": [
       "        RI     Na    Mg    Al     Si     K    Ca   Ba   Fe  Type\n",
       "0  1.52101  13.64  4.49  1.10  71.78  0.06  8.75  0.0  0.0     1\n",
       "1  1.51761  13.89  3.60  1.36  72.73  0.48  7.83  0.0  0.0     1\n",
       "2  1.51618  13.53  3.55  1.54  72.99  0.39  7.78  0.0  0.0     1\n",
       "3  1.51766  13.21  3.69  1.29  72.61  0.57  8.22  0.0  0.0     1\n",
       "4  1.51742  13.27  3.62  1.24  73.08  0.55  8.07  0.0  0.0     1"
      ]
     },
     "execution_count": 3,
     "metadata": {},
     "output_type": "execute_result"
    }
   ],
   "source": [
    "data.head()"
   ]
  },
  {
   "cell_type": "code",
   "execution_count": 5,
   "id": "aa3ae522",
   "metadata": {},
   "outputs": [
    {
     "data": {
      "text/plain": [
       "2    76\n",
       "1    70\n",
       "7    29\n",
       "3    17\n",
       "5    13\n",
       "6     9\n",
       "Name: Type, dtype: int64"
      ]
     },
     "execution_count": 5,
     "metadata": {},
     "output_type": "execute_result"
    }
   ],
   "source": [
    "data[\"Type\"].value_counts()"
   ]
  },
  {
   "cell_type": "code",
   "execution_count": 7,
   "id": "60678845",
   "metadata": {},
   "outputs": [
    {
     "data": {
      "text/plain": [
       "1"
      ]
     },
     "execution_count": 7,
     "metadata": {},
     "output_type": "execute_result"
    }
   ],
   "source": [
    "data.duplicated().sum()"
   ]
  },
  {
   "cell_type": "code",
   "execution_count": 10,
   "id": "8bc1e871",
   "metadata": {},
   "outputs": [],
   "source": [
    "data.drop_duplicates(inplace=True)"
   ]
  },
  {
   "cell_type": "code",
   "execution_count": 11,
   "id": "cd9ede78",
   "metadata": {},
   "outputs": [
    {
     "data": {
      "text/plain": [
       "0"
      ]
     },
     "execution_count": 11,
     "metadata": {},
     "output_type": "execute_result"
    }
   ],
   "source": [
    "data.duplicated().sum()"
   ]
  },
  {
   "cell_type": "code",
   "execution_count": 13,
   "id": "bfc66f15",
   "metadata": {},
   "outputs": [],
   "source": [
    "X=data.drop(\"Type\",axis=1)"
   ]
  },
  {
   "cell_type": "code",
   "execution_count": 14,
   "id": "c987aafd",
   "metadata": {},
   "outputs": [
    {
     "data": {
      "text/html": [
       "<div>\n",
       "<style scoped>\n",
       "    .dataframe tbody tr th:only-of-type {\n",
       "        vertical-align: middle;\n",
       "    }\n",
       "\n",
       "    .dataframe tbody tr th {\n",
       "        vertical-align: top;\n",
       "    }\n",
       "\n",
       "    .dataframe thead th {\n",
       "        text-align: right;\n",
       "    }\n",
       "</style>\n",
       "<table border=\"1\" class=\"dataframe\">\n",
       "  <thead>\n",
       "    <tr style=\"text-align: right;\">\n",
       "      <th></th>\n",
       "      <th>RI</th>\n",
       "      <th>Na</th>\n",
       "      <th>Mg</th>\n",
       "      <th>Al</th>\n",
       "      <th>Si</th>\n",
       "      <th>K</th>\n",
       "      <th>Ca</th>\n",
       "      <th>Ba</th>\n",
       "      <th>Fe</th>\n",
       "    </tr>\n",
       "  </thead>\n",
       "  <tbody>\n",
       "    <tr>\n",
       "      <th>0</th>\n",
       "      <td>1.52101</td>\n",
       "      <td>13.64</td>\n",
       "      <td>4.49</td>\n",
       "      <td>1.10</td>\n",
       "      <td>71.78</td>\n",
       "      <td>0.06</td>\n",
       "      <td>8.75</td>\n",
       "      <td>0.00</td>\n",
       "      <td>0.0</td>\n",
       "    </tr>\n",
       "    <tr>\n",
       "      <th>1</th>\n",
       "      <td>1.51761</td>\n",
       "      <td>13.89</td>\n",
       "      <td>3.60</td>\n",
       "      <td>1.36</td>\n",
       "      <td>72.73</td>\n",
       "      <td>0.48</td>\n",
       "      <td>7.83</td>\n",
       "      <td>0.00</td>\n",
       "      <td>0.0</td>\n",
       "    </tr>\n",
       "    <tr>\n",
       "      <th>2</th>\n",
       "      <td>1.51618</td>\n",
       "      <td>13.53</td>\n",
       "      <td>3.55</td>\n",
       "      <td>1.54</td>\n",
       "      <td>72.99</td>\n",
       "      <td>0.39</td>\n",
       "      <td>7.78</td>\n",
       "      <td>0.00</td>\n",
       "      <td>0.0</td>\n",
       "    </tr>\n",
       "    <tr>\n",
       "      <th>3</th>\n",
       "      <td>1.51766</td>\n",
       "      <td>13.21</td>\n",
       "      <td>3.69</td>\n",
       "      <td>1.29</td>\n",
       "      <td>72.61</td>\n",
       "      <td>0.57</td>\n",
       "      <td>8.22</td>\n",
       "      <td>0.00</td>\n",
       "      <td>0.0</td>\n",
       "    </tr>\n",
       "    <tr>\n",
       "      <th>4</th>\n",
       "      <td>1.51742</td>\n",
       "      <td>13.27</td>\n",
       "      <td>3.62</td>\n",
       "      <td>1.24</td>\n",
       "      <td>73.08</td>\n",
       "      <td>0.55</td>\n",
       "      <td>8.07</td>\n",
       "      <td>0.00</td>\n",
       "      <td>0.0</td>\n",
       "    </tr>\n",
       "    <tr>\n",
       "      <th>...</th>\n",
       "      <td>...</td>\n",
       "      <td>...</td>\n",
       "      <td>...</td>\n",
       "      <td>...</td>\n",
       "      <td>...</td>\n",
       "      <td>...</td>\n",
       "      <td>...</td>\n",
       "      <td>...</td>\n",
       "      <td>...</td>\n",
       "    </tr>\n",
       "    <tr>\n",
       "      <th>209</th>\n",
       "      <td>1.51623</td>\n",
       "      <td>14.14</td>\n",
       "      <td>0.00</td>\n",
       "      <td>2.88</td>\n",
       "      <td>72.61</td>\n",
       "      <td>0.08</td>\n",
       "      <td>9.18</td>\n",
       "      <td>1.06</td>\n",
       "      <td>0.0</td>\n",
       "    </tr>\n",
       "    <tr>\n",
       "      <th>210</th>\n",
       "      <td>1.51685</td>\n",
       "      <td>14.92</td>\n",
       "      <td>0.00</td>\n",
       "      <td>1.99</td>\n",
       "      <td>73.06</td>\n",
       "      <td>0.00</td>\n",
       "      <td>8.40</td>\n",
       "      <td>1.59</td>\n",
       "      <td>0.0</td>\n",
       "    </tr>\n",
       "    <tr>\n",
       "      <th>211</th>\n",
       "      <td>1.52065</td>\n",
       "      <td>14.36</td>\n",
       "      <td>0.00</td>\n",
       "      <td>2.02</td>\n",
       "      <td>73.42</td>\n",
       "      <td>0.00</td>\n",
       "      <td>8.44</td>\n",
       "      <td>1.64</td>\n",
       "      <td>0.0</td>\n",
       "    </tr>\n",
       "    <tr>\n",
       "      <th>212</th>\n",
       "      <td>1.51651</td>\n",
       "      <td>14.38</td>\n",
       "      <td>0.00</td>\n",
       "      <td>1.94</td>\n",
       "      <td>73.61</td>\n",
       "      <td>0.00</td>\n",
       "      <td>8.48</td>\n",
       "      <td>1.57</td>\n",
       "      <td>0.0</td>\n",
       "    </tr>\n",
       "    <tr>\n",
       "      <th>213</th>\n",
       "      <td>1.51711</td>\n",
       "      <td>14.23</td>\n",
       "      <td>0.00</td>\n",
       "      <td>2.08</td>\n",
       "      <td>73.36</td>\n",
       "      <td>0.00</td>\n",
       "      <td>8.62</td>\n",
       "      <td>1.67</td>\n",
       "      <td>0.0</td>\n",
       "    </tr>\n",
       "  </tbody>\n",
       "</table>\n",
       "<p>213 rows × 9 columns</p>\n",
       "</div>"
      ],
      "text/plain": [
       "          RI     Na    Mg    Al     Si     K    Ca    Ba   Fe\n",
       "0    1.52101  13.64  4.49  1.10  71.78  0.06  8.75  0.00  0.0\n",
       "1    1.51761  13.89  3.60  1.36  72.73  0.48  7.83  0.00  0.0\n",
       "2    1.51618  13.53  3.55  1.54  72.99  0.39  7.78  0.00  0.0\n",
       "3    1.51766  13.21  3.69  1.29  72.61  0.57  8.22  0.00  0.0\n",
       "4    1.51742  13.27  3.62  1.24  73.08  0.55  8.07  0.00  0.0\n",
       "..       ...    ...   ...   ...    ...   ...   ...   ...  ...\n",
       "209  1.51623  14.14  0.00  2.88  72.61  0.08  9.18  1.06  0.0\n",
       "210  1.51685  14.92  0.00  1.99  73.06  0.00  8.40  1.59  0.0\n",
       "211  1.52065  14.36  0.00  2.02  73.42  0.00  8.44  1.64  0.0\n",
       "212  1.51651  14.38  0.00  1.94  73.61  0.00  8.48  1.57  0.0\n",
       "213  1.51711  14.23  0.00  2.08  73.36  0.00  8.62  1.67  0.0\n",
       "\n",
       "[213 rows x 9 columns]"
      ]
     },
     "execution_count": 14,
     "metadata": {},
     "output_type": "execute_result"
    }
   ],
   "source": [
    "X\n"
   ]
  },
  {
   "cell_type": "code",
   "execution_count": 15,
   "id": "fbd4da96",
   "metadata": {},
   "outputs": [],
   "source": [
    "y=data[\"Type\"]"
   ]
  },
  {
   "cell_type": "code",
   "execution_count": 16,
   "id": "2e40be1f",
   "metadata": {},
   "outputs": [
    {
     "data": {
      "text/plain": [
       "0      1\n",
       "1      1\n",
       "2      1\n",
       "3      1\n",
       "4      1\n",
       "      ..\n",
       "209    7\n",
       "210    7\n",
       "211    7\n",
       "212    7\n",
       "213    7\n",
       "Name: Type, Length: 213, dtype: int64"
      ]
     },
     "execution_count": 16,
     "metadata": {},
     "output_type": "execute_result"
    }
   ],
   "source": [
    "y"
   ]
  },
  {
   "cell_type": "code",
   "execution_count": 17,
   "id": "4cabb778",
   "metadata": {},
   "outputs": [],
   "source": [
    "# Split the data into training and testing sets\n",
    "X_train, X_test, y_train, y_test = train_test_split(X, y, test_size=0.2, random_state=42)"
   ]
  },
  {
   "cell_type": "markdown",
   "id": "cd024a91",
   "metadata": {},
   "source": [
    "# wherever we have a distance in the algorithm will use the scaling\n",
    "\n",
    "# to scale the data into same scale this scaling is required"
   ]
  },
  {
   "cell_type": "code",
   "execution_count": 21,
   "id": "3340f2b6",
   "metadata": {},
   "outputs": [],
   "source": [
    "# scaling\n",
    "scaler = MinMaxScaler()\n",
    "X_train = scaler.fit_transform(X_train)\n",
    "X_test = scaler.transform(X_test)\n"
   ]
  },
  {
   "cell_type": "code",
   "execution_count": 22,
   "id": "5f9d3759",
   "metadata": {},
   "outputs": [
    {
     "data": {
      "text/plain": [
       "array([[0.20939421, 0.32030075, 0.78396437, ..., 0.20961538, 0.        ,\n",
       "        0.        ],\n",
       "       [0.48112379, 0.52030075, 0.84187082, ..., 0.32211538, 0.        ,\n",
       "        0.7254902 ],\n",
       "       [0.67998244, 0.07518797, 0.        , ..., 0.85480769, 0.        ,\n",
       "        0.        ],\n",
       "       ...,\n",
       "       [0.20851624, 0.37744361, 0.74387528, ..., 0.23365385, 0.        ,\n",
       "        0.        ],\n",
       "       [0.08077261, 0.5518797 , 0.38752784, ..., 0.17307692, 0.        ,\n",
       "        0.        ],\n",
       "       [0.70676032, 0.46165414, 0.70155902, ..., 0.5625    , 0.        ,\n",
       "        0.        ]])"
      ]
     },
     "execution_count": 22,
     "metadata": {},
     "output_type": "execute_result"
    }
   ],
   "source": [
    "X_train"
   ]
  },
  {
   "cell_type": "code",
   "execution_count": 23,
   "id": "f357e368",
   "metadata": {},
   "outputs": [
    {
     "data": {
      "text/plain": [
       "array([[0.37910085, 0.45454545, 0.96514745, 0.32258065, 0.53404255,\n",
       "        0.09178744, 0.33110368, 0.        , 0.31428571],\n",
       "       [0.24301337, 0.85923754, 0.        , 0.84677419, 0.55744681,\n",
       "        0.00644122, 0.40691193, 0.37426901, 0.        ],\n",
       "       [0.62029162, 0.46920821, 0.97855228, 0.125     , 0.39148936,\n",
       "        0.03059581, 0.49275362, 0.        , 0.48571429],\n",
       "       [0.29890644, 0.80645161, 0.        , 0.89919355, 0.63404255,\n",
       "        0.00644122, 0.40245262, 0.23391813, 0.25714286],\n",
       "       [0.32928311, 0.54252199, 0.97587131, 0.39112903, 0.43617021,\n",
       "        0.10466989, 0.28985507, 0.        , 0.82857143],\n",
       "       [1.        , 0.34897361, 0.        , 0.04435484, 0.32765957,\n",
       "        0.00966184, 1.        , 0.        , 0.        ],\n",
       "       [0.38274605, 0.39882698, 0.94906166, 0.27016129, 0.58723404,\n",
       "        0.09339775, 0.32998885, 0.        , 0.        ],\n",
       "       [0.31227217, 0.57184751, 0.93565684, 0.38709677, 0.46170213,\n",
       "        0.1078905 , 0.29542921, 0.        , 0.28571429],\n",
       "       [0.31227217, 0.58357771, 0.96782842, 0.39516129, 0.40638298,\n",
       "        0.10628019, 0.28985507, 0.        , 0.        ],\n",
       "       [0.43013366, 0.41055718, 0.98391421, 0.27419355, 0.44468085,\n",
       "        0.09983897, 0.36231884, 0.        , 1.        ],\n",
       "       [0.509113  , 0.91202346, 0.        , 0.        , 0.63829787,\n",
       "        0.        , 0.64548495, 0.        , 0.        ],\n",
       "       [0.11239368, 0.46041056, 0.        , 1.        , 0.        ,\n",
       "        1.        , 0.17056856, 0.        , 0.        ],\n",
       "       [0.32260024, 0.41055718, 0.94101877, 0.35483871, 0.53829787,\n",
       "        0.10950081, 0.31215162, 0.03508772, 0.71428571],\n",
       "       [0.28250304, 0.46041056, 0.95442359, 0.39516129, 0.55957447,\n",
       "        0.11594203, 0.27536232, 0.        , 0.        ],\n",
       "       [0.43803159, 0.77419355, 0.58713137, 0.44354839, 0.46595745,\n",
       "        0.        , 0.43366778, 0.        , 0.        ],\n",
       "       [0.32503038, 0.41348974, 0.        , 0.51209677, 0.72340426,\n",
       "        0.15619968, 0.52842809, 0.        , 0.        ],\n",
       "       [0.28614824, 0.99706745, 0.        , 0.73387097, 0.59574468,\n",
       "        0.        , 0.37123746, 0.37426901, 0.25714286],\n",
       "       [0.47387606, 0.71847507, 1.        , 0.25      , 0.34893617,\n",
       "        0.00966184, 0.38573021, 0.        , 0.        ],\n",
       "       [0.44835966, 0.51026393, 0.90348525, 0.25      , 0.47659574,\n",
       "        0.09178744, 0.37904125, 0.        , 0.45714286],\n",
       "       [0.        , 0.6568915 , 0.85790885, 0.50403226, 0.49574468,\n",
       "        0.28341385, 0.        , 0.69590643, 0.        ],\n",
       "       [0.41312272, 0.44281525, 0.79356568, 0.35080645, 0.51914894,\n",
       "        0.09661836, 0.37458194, 0.08187135, 0.        ],\n",
       "       [0.29890644, 0.7888563 , 0.        , 0.93548387, 0.45319149,\n",
       "        0.01288245, 0.4180602 , 0.61988304, 0.        ],\n",
       "       [0.56743621, 0.85337243, 0.        , 0.58870968, 0.62553191,\n",
       "        0.        , 0.33556299, 0.95906433, 0.        ],\n",
       "       [0.2582017 , 0.70967742, 0.        , 0.7983871 , 0.58510638,\n",
       "        0.02254428, 0.44370123, 0.47368421, 0.02857143],\n",
       "       [0.31105711, 0.20821114, 0.94369973, 0.31854839, 0.51276596,\n",
       "        0.09178744, 0.34559643, 0.        , 0.        ],\n",
       "       [0.81652491, 0.        , 0.        , 0.53225806, 0.36382979,\n",
       "        0.13043478, 0.87068004, 0.        , 0.97142857],\n",
       "       [0.38699878, 0.35190616, 0.95442359, 0.2983871 , 0.55319149,\n",
       "        0.09822866, 0.36343367, 0.        , 0.4       ],\n",
       "       [0.38456865, 0.44868035, 0.94906166, 0.26209677, 0.53617021,\n",
       "        0.10466989, 0.34559643, 0.        , 0.        ],\n",
       "       [0.47023086, 0.74780059, 0.64075067, 0.40322581, 0.40212766,\n",
       "        0.        , 0.46153846, 0.        , 0.        ],\n",
       "       [0.39671932, 0.36070381, 0.98391421, 0.24193548, 0.55957447,\n",
       "        0.09822866, 0.36454849, 0.        , 0.        ],\n",
       "       [0.05103281, 0.4516129 , 0.93029491, 0.22580645, 0.53191489,\n",
       "        0.09983897, 0.32552954, 0.        , 0.88571429],\n",
       "       [0.32989064, 0.41642229, 0.95442359, 0.43548387, 0.56595745,\n",
       "        0.10466989, 0.28539576, 0.        , 0.        ],\n",
       "       [0.40400972, 0.60117302, 0.90080429, 0.43145161, 0.3106383 ,\n",
       "        0.09178744, 0.37681159, 0.        , 0.25714286],\n",
       "       [0.30255164, 0.36950147, 0.89276139, 0.375     , 0.59574468,\n",
       "        0.1078905 , 0.31326644, 0.        , 0.        ],\n",
       "       [0.2691373 , 1.        , 0.98391421, 0.47580645, 0.29574468,\n",
       "        0.0257649 , 0.21516165, 0.        , 0.34285714],\n",
       "       [0.32017011, 0.98240469, 0.        , 0.5766129 , 0.55957447,\n",
       "        0.        , 0.31772575, 1.        , 0.        ],\n",
       "       [0.11543135, 0.45454545, 0.        , 0.99193548, 0.04680851,\n",
       "        1.        , 0.16722408, 0.        , 0.        ],\n",
       "       [0.29100851, 0.57771261, 0.91152815, 0.26612903, 0.47021277,\n",
       "        0.09500805, 0.32218506, 0.        , 0.        ],\n",
       "       [0.33900365, 0.35777126, 0.77211796, 0.46370968, 0.58085106,\n",
       "        0.11755233, 0.34671126, 0.        , 0.        ],\n",
       "       [0.30012151, 0.5601173 , 0.95978552, 0.375     , 0.47659574,\n",
       "        0.07246377, 0.30992196, 0.        , 0.        ],\n",
       "       [0.41859052, 0.3431085 , 0.73994638, 0.10887097, 0.70851064,\n",
       "        0.05636071, 0.44481605, 0.        , 0.57142857],\n",
       "       [0.31713244, 0.14662757, 0.        , 0.25403226, 1.        ,\n",
       "        0.43478261, 0.39018952, 0.        , 0.        ],\n",
       "       [0.51397327, 0.69208211, 0.95978552, 0.30645161, 0.26382979,\n",
       "        0.01932367, 0.36120401, 0.40350877, 0.        ]])"
      ]
     },
     "execution_count": 23,
     "metadata": {},
     "output_type": "execute_result"
    }
   ],
   "source": [
    "X_test\n"
   ]
  },
  {
   "cell_type": "code",
   "execution_count": 36,
   "id": "aeb0f949",
   "metadata": {},
   "outputs": [],
   "source": [
    "def knn_tarining(X_train,y_train,X_test,K):\n",
    "    '''\n",
    "    X_train--> training data\n",
    "    y_train--> label for the training\n",
    "    X_test--> it is for the validation\n",
    "    K--> it is number of the nearest neighbours\n",
    "    \n",
    "    '''\n",
    "    knn = KNeighborsClassifier(n_neighbors = K)\n",
    "    knn.fit(X_train,y_train)\n",
    "    prediction = knn.predict(X_test)\n",
    "    return prediction\n",
    "    "
   ]
  },
  {
   "cell_type": "code",
   "execution_count": null,
   "id": "ecad063a",
   "metadata": {},
   "outputs": [],
   "source": [
    "1. how to decide the number of K\n",
    "2. pros and cons of this knn"
   ]
  },
  {
   "cell_type": "markdown",
   "id": "7d4582ec",
   "metadata": {},
   "source": [
    "# 1. how to decide the number of K\n",
    "\n",
    "# heuristics method=sqrt of total record==> this as a nearest neigbour\n",
    "\n",
    "# based on reaserch= you can take different different value of the K K=1 to K=N(total number of instances)"
   ]
  },
  {
   "cell_type": "code",
   "execution_count": 31,
   "id": "127f654f",
   "metadata": {},
   "outputs": [],
   "source": [
    "import math\n",
    "\n",
    "n=data.shape[0]\n",
    "K=math.sqrt(n)"
   ]
  },
  {
   "cell_type": "code",
   "execution_count": 39,
   "id": "62276221",
   "metadata": {},
   "outputs": [],
   "source": [
    "K=int(K)"
   ]
  },
  {
   "cell_type": "code",
   "execution_count": 40,
   "id": "f4de123b",
   "metadata": {},
   "outputs": [],
   "source": [
    "pred=knn_tarining(X_train,y_train,X_test,K)"
   ]
  },
  {
   "cell_type": "code",
   "execution_count": 41,
   "id": "0ed2be66",
   "metadata": {},
   "outputs": [
    {
     "name": "stdout",
     "output_type": "stream",
     "text": [
      "[2 7 1 7 2 2 1 2 1 1 6 7 1 2 1 7 7 1 2 2 1 7 7 7 1 2 2 1 1 1 2 2 1 1 1 7 7\n",
      " 1 1 1 1 5 1]\n"
     ]
    }
   ],
   "source": [
    "print(pred)"
   ]
  },
  {
   "cell_type": "code",
   "execution_count": 42,
   "id": "03d573a7",
   "metadata": {},
   "outputs": [
    {
     "data": {
      "text/plain": [
       "0.46511627906976744"
      ]
     },
     "execution_count": 42,
     "metadata": {},
     "output_type": "execute_result"
    }
   ],
   "source": [
    "accuracy_score(y_test,pred)"
   ]
  },
  {
   "cell_type": "code",
   "execution_count": 49,
   "id": "f9862a05",
   "metadata": {},
   "outputs": [
    {
     "name": "stdout",
     "output_type": "stream",
     "text": [
      "for this K value 1 this is my acc 0.627906976744186\n",
      "for this K value 2 this is my acc 0.627906976744186\n",
      "for this K value 3 this is my acc 0.5813953488372093\n",
      "for this K value 4 this is my acc 0.6511627906976745\n",
      "for this K value 5 this is my acc 0.6511627906976745\n",
      "for this K value 6 this is my acc 0.6511627906976745\n",
      "for this K value 7 this is my acc 0.6511627906976745\n",
      "for this K value 8 this is my acc 0.6744186046511628\n",
      "for this K value 9 this is my acc 0.6046511627906976\n",
      "for this K value 10 this is my acc 0.5813953488372093\n",
      "for this K value 11 this is my acc 0.5813953488372093\n",
      "for this K value 12 this is my acc 0.5116279069767442\n",
      "for this K value 13 this is my acc 0.5116279069767442\n",
      "for this K value 14 this is my acc 0.46511627906976744\n",
      "for this K value 15 this is my acc 0.46511627906976744\n",
      "for this K value 16 this is my acc 0.4418604651162791\n",
      "for this K value 17 this is my acc 0.4418604651162791\n",
      "for this K value 18 this is my acc 0.4418604651162791\n",
      "for this K value 19 this is my acc 0.3953488372093023\n",
      "for this K value 20 this is my acc 0.4418604651162791\n"
     ]
    }
   ],
   "source": [
    "K_value=range(1,21)\n",
    "accuracy=[]\n",
    "\n",
    "for K in K_value:\n",
    "    y_pred=knn_tarining(X_train,y_train,X_test,K)\n",
    "    acc= accuracy_score(y_test,y_pred)\n",
    "    accuracy.append(acc)\n",
    "    print(f\"for this K value {K} this is my acc {acc}\")"
   ]
  },
  {
   "cell_type": "code",
   "execution_count": 47,
   "id": "3cc71e38",
   "metadata": {},
   "outputs": [
    {
     "data": {
      "text/plain": [
       "[0.627906976744186,\n",
       " 0.627906976744186,\n",
       " 0.5813953488372093,\n",
       " 0.6511627906976745,\n",
       " 0.6511627906976745,\n",
       " 0.6511627906976745,\n",
       " 0.6511627906976745,\n",
       " 0.6744186046511628,\n",
       " 0.6046511627906976,\n",
       " 0.5813953488372093,\n",
       " 0.5813953488372093,\n",
       " 0.5116279069767442,\n",
       " 0.5116279069767442,\n",
       " 0.46511627906976744,\n",
       " 0.46511627906976744,\n",
       " 0.4418604651162791,\n",
       " 0.4418604651162791,\n",
       " 0.4418604651162791,\n",
       " 0.3953488372093023,\n",
       " 0.4418604651162791]"
      ]
     },
     "execution_count": 47,
     "metadata": {},
     "output_type": "execute_result"
    }
   ],
   "source": [
    "accuracy"
   ]
  },
  {
   "cell_type": "code",
   "execution_count": 48,
   "id": "f8fedde4",
   "metadata": {},
   "outputs": [
    {
     "data": {
      "text/plain": [
       "0.6744186046511628"
      ]
     },
     "execution_count": 48,
     "metadata": {},
     "output_type": "execute_result"
    }
   ],
   "source": [
    "max(accuracy)"
   ]
  },
  {
   "cell_type": "code",
   "execution_count": 50,
   "id": "49108b0a",
   "metadata": {},
   "outputs": [
    {
     "data": {
      "image/png": "[encoded data removed]",
      "text/plain": [
       "<Figure size 432x288 with 1 Axes>"
      ]
     },
     "metadata": {
      "needs_background": "light"
     },
     "output_type": "display_data"
    }
   ],
   "source": [
    "plt.plot(K_value,accuracy,c=\"grey\",marker=\".\",ms=7,mfc=\"black\",mec=\"green\")\n",
    "plt.xlabel(\"K\")\n",
    "plt.ylabel(\"Accuracy\")\n",
    "plt.grid(True)\n",
    "plt.show()"
   ]
  },
  {
   "cell_type": "code",
   "execution_count": null,
   "id": "34cc6aaa",
   "metadata": {},
   "outputs": [],
   "source": [
    "K=1\n",
    "\n",
    "K=N"
   ]
  },
  {
   "cell_type": "markdown",
   "id": "e5b28718",
   "metadata": {},
   "source": [
    "### Pros:\n",
    "\n",
    "Simple and easy to implement\n",
    "\n",
    "this is effective for the low-dimesion dataset(less number of features)\n",
    "\n",
    "in this knn we dont have the training phrase we only have the testing phase; whenever we add the new so we can add it without the training(lazy lerner)"
   ]
  },
  {
   "cell_type": "markdown",
   "id": "de70c192",
   "metadata": {},
   "source": [
    "### Cons:\n",
    "    \n",
    "not suitable for the large dataset\n",
    "\n",
    "it is not sutaible for the higher dimession\n",
    "\n",
    "here the reason since there is no training process everything we are doing on a distance \n",
    "\n",
    "not sutaible for the imbalnced data\n",
    "\n",
    "it is not sutaible for the outlier\n",
    "\n",
    "it is not sutabile for the large scaled or data without scaling\n"
   ]
  },
  {
   "cell_type": "code",
   "execution_count": null,
   "id": "05e4c113",
   "metadata": {},
   "outputs": [],
   "source": []
  }
 ],
 "metadata": {
  "kernelspec": {
   "display_name": "Python 3 (ipykernel)",
   "language": "python",
   "name": "python3"
  },
  "language_info": {
   "codemirror_mode": {
    "name": "ipython",
    "version": 3
   },
   "file_extension": ".py",
   "mimetype": "text/x-python",
   "name": "python",
   "nbconvert_exporter": "python",
   "pygments_lexer": "ipython3",
   "version": "3.9.7"
  }
 },
 "nbformat": 4,
 "nbformat_minor": 5
}
